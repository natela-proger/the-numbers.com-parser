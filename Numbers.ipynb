{
 "cells": [
  {
   "cell_type": "markdown",
   "metadata": {},
   "source": [
    "# ПАРСЕРЫ "
   ]
  },
  {
   "attachments": {},
   "cell_type": "markdown",
   "metadata": {},
   "source": [
    "## Данный блокнот создан для скачивания данных с сайта www.the-numbers.com \n",
    "\n"
   ]
  },
  {
   "cell_type": "code",
   "execution_count": null,
   "metadata": {},
   "outputs": [],
   "source": [
    "import pandas as pd\n",
    "import requests\n",
    "from bs4 import BeautifulSoup"
   ]
  },
  {
   "cell_type": "markdown",
   "metadata": {},
   "source": [
    "### Кинокомпании 1995-2020"
   ]
  },
  {
   "cell_type": "code",
   "execution_count": null,
   "metadata": {},
   "outputs": [],
   "source": [
    "def parser_all():\n",
    "    url = 'https://www.the-numbers.com/market/distributors'\n",
    "    res = requests.get(url)\n",
    "    html = res.content\n",
    "    tree = BeautifulSoup(html, 'html.parser')\n",
    "    dists = tree.find_all('td')\n",
    "    places = dists[::6]\n",
    "    name = dists[1::6]\n",
    "    movies = dists[2::6]\n",
    "    gross = dists[3::6]\n",
    "    tickets = dists[4::6]\n",
    "    percent = dists[5::6]\n",
    "    infa = []\n",
    "    for i in range(len(places)):\n",
    "        a = places[i].text.strip()\n",
    "        b = name[i].text.strip()\n",
    "        c = movies[i].text.strip()\n",
    "        d = gross [i].text.strip()\n",
    "        e = tickets[i].text.strip()\n",
    "        g = percent[i].text.strip()\n",
    "        infa.append({'Рейтинг': a,\n",
    "                     'Компания':b,\n",
    "                     'Кол-во фильмов': c,\n",
    "                     'Box office': d,\n",
    "                     'Кол-во билетов': e,\n",
    "                     'Процент от общего кол-ва': g})\n",
    "    \n",
    "    df = pd.DataFrame(infa)\n",
    "    return df"
   ]
  },
  {
   "cell_type": "code",
   "execution_count": null,
   "metadata": {},
   "outputs": [],
   "source": [
    "parser_all()"
   ]
  },
  {
   "cell_type": "markdown",
   "metadata": {},
   "source": [
    "### Кинокомпании каждый год"
   ]
  },
  {
   "cell_type": "code",
   "execution_count": null,
   "metadata": {},
   "outputs": [],
   "source": [
    "def parser(year):\n",
    "    url = 'https://www.the-numbers.com/market/{}/distributors'.format(year)\n",
    "    res = requests.get(url)\n",
    "    html = res.content\n",
    "    tree = BeautifulSoup(html, 'html.parser')\n",
    "    dists = tree.find_all('td')[3:]\n",
    "    places = dists[::6]\n",
    "    name = dists[1::6]\n",
    "    movies = dists[2::6]\n",
    "    gross = dists[3::6]\n",
    "    tickets = dists[4::6]\n",
    "    percent = dists[5::6]\n",
    "    infa = []\n",
    "    for i in range(len(places)):\n",
    "        a = places[i].text.strip()\n",
    "        b = name[i].text.strip()\n",
    "        c = movies[i].text.strip()\n",
    "        d = gross [i].text.strip()\n",
    "        e = tickets[i].text.strip()\n",
    "        g = percent[i].text.strip()\n",
    "        infa.append({'Рейтинг': a,\n",
    "                     'Компания':b,\n",
    "                     'Кол-во фильмов': c,\n",
    "                     'Box office': d,\n",
    "                     'Кол-во билетов': e,\n",
    "                     'Процент от общего кол-ва': g})\n",
    "    \n",
    "    df = pd.DataFrame(infa)\n",
    "    df['Год'] = year\n",
    "    return df"
   ]
  },
  {
   "cell_type": "code",
   "execution_count": null,
   "metadata": {},
   "outputs": [],
   "source": [
    "parser(2019)"
   ]
  },
  {
   "cell_type": "markdown",
   "metadata": {},
   "source": [
    "### Фильмы по бюджету"
   ]
  },
  {
   "cell_type": "code",
   "execution_count": null,
   "metadata": {},
   "outputs": [],
   "source": [
    "# первая страница \n",
    "# все со второй страницы\n",
    "def parser_budget1():\n",
    "    url = 'https://www.the-numbers.com/movie/budgets/all'\n",
    "    res = requests.get(url)\n",
    "    html = res.content\n",
    "    tree = BeautifulSoup(html, 'html.parser')\n",
    "    dists = tree.find_all('td')\n",
    "    places = dists[::6]\n",
    "    date = dists[1::6]\n",
    "    movies = dists[2::6]\n",
    "    budget = dists[3::6]\n",
    "    dom = dists[4::6]\n",
    "    mir = dists[5::6]\n",
    "    infa = []\n",
    "    for i in range(len(places)):\n",
    "        a = places[i].text.strip()\n",
    "        b = date[i].text.strip()\n",
    "        c = movies[i].text.strip()\n",
    "        d = budget[i].text.strip()\n",
    "        e = dom[i].text.strip()\n",
    "        g = mir[i].text.strip()\n",
    "        infa.append({'Рейтинг': a,\n",
    "                     'Дата релиза':b,\n",
    "                     'Фильм': c,\n",
    "                     'Бюджет': d,\n",
    "                     'Домашние сборы': e,\n",
    "                     'Мировые сборы': g})\n",
    "    \n",
    "    df = pd.DataFrame(infa)\n",
    "\n",
    "    return df"
   ]
  },
  {
   "cell_type": "code",
   "execution_count": null,
   "metadata": {},
   "outputs": [],
   "source": [
    "parser_budget1()"
   ]
  },
  {
   "cell_type": "code",
   "execution_count": null,
   "metadata": {},
   "outputs": [],
   "source": [
    "# все со второй страницы\n",
    "def parser_budget(r):\n",
    "    url = 'https://www.the-numbers.com/movie/budgets/all/{}'.format(r)\n",
    "    res = requests.get(url)\n",
    "    html = res.content\n",
    "    tree = BeautifulSoup(html, 'html.parser')\n",
    "    dists = tree.find_all('td')\n",
    "    places = dists[::6]\n",
    "    date = dists[1::6]\n",
    "    movies = dists[2::6]\n",
    "    budget = dists[3::6]\n",
    "    dom = dists[4::6]\n",
    "    mir = dists[5::6]\n",
    "    infa = []\n",
    "    for i in range(len(places)):\n",
    "        a = places[i].text.strip()\n",
    "        b = date[i].text.strip()\n",
    "        c = movies[i].text.strip()\n",
    "        d = budget[i].text.strip()\n",
    "        e = dom[i].text.strip()\n",
    "        g = mir[i].text.strip()\n",
    "        infa.append({'Рейтинг': a,\n",
    "                     'Дата релиза':b,\n",
    "                     'Фильм': c,\n",
    "                     'Бюджет': d,\n",
    "                     'Домашние сборы': e,\n",
    "                     'Мировые сборы': g})\n",
    "    \n",
    "    df = pd.DataFrame(infa)\n",
    "\n",
    "    return df"
   ]
  },
  {
   "cell_type": "code",
   "execution_count": null,
   "metadata": {},
   "outputs": [],
   "source": [
    "parser_budget(r)"
   ]
  },
  {
   "cell_type": "markdown",
   "metadata": {},
   "source": [
    "### Страны"
   ]
  },
  {
   "cell_type": "code",
   "execution_count": null,
   "metadata": {},
   "outputs": [],
   "source": [
    "def parser_country():\n",
    "    url = 'https://www.the-numbers.com/movies/production-countries/#tab=territory'\n",
    "    res = requests.get(url)\n",
    "    html = res.content\n",
    "    tree = BeautifulSoup(html, 'html.parser')\n",
    "    total = tree.find_all('td')\n",
    "\n",
    "    country = total[::4][:173]\n",
    "    films = total[1::4][:173]\n",
    "    budget = total[2::4][:173]\n",
    "    box = total[3::4][:173]\n",
    "    infa = []\n",
    "    for i in range(len(box)):\n",
    "        a = country[i].text.strip()\n",
    "        b = films[i].text.strip()\n",
    "        c = budget[i].text.strip()\n",
    "        d = box[i].text.strip()\n",
    "\n",
    "        infa.append({'Страна': a,\n",
    "                     'Кол-во выпущенных фильмов':b,\n",
    "                     'Средний бюджет': c,\n",
    "                     'Box office': d})\n",
    "    \n",
    "    df = pd.DataFrame(infa)\n",
    "    return df"
   ]
  },
  {
   "cell_type": "code",
   "execution_count": null,
   "metadata": {},
   "outputs": [],
   "source": [
    "parser_country()"
   ]
  },
  {
   "cell_type": "markdown",
   "metadata": {},
   "source": [
    "### Год"
   ]
  },
  {
   "cell_type": "code",
   "execution_count": null,
   "metadata": {},
   "outputs": [],
   "source": [
    "def parser_year():\n",
    "    url = 'https://www.the-numbers.com/movies/production-countries/#tab=territory'\n",
    "    res = requests.get(url)\n",
    "    html = res.content\n",
    "    tree = BeautifulSoup(html, 'html.parser')\n",
    "    total = tree.find_all('td')\n",
    "\n",
    "    country = total[::4][173:]\n",
    "    films = total[1::4][173:]\n",
    "    budget = total[2::4][173:]\n",
    "    box = total[3::4][173:]\n",
    "    infa = []\n",
    "    for i in range(len(box)):\n",
    "        a = country[i].text.strip()\n",
    "        b = films[i].text.strip()\n",
    "        c = budget[i].text.strip()\n",
    "        d = box[i].text.strip()\n",
    "\n",
    "        infa.append({'Страна': a,\n",
    "                     'Кол-во выпущенных фильмов':b,\n",
    "                     'Средний бюджет': c,\n",
    "                     'Box office': d})\n",
    "    \n",
    "    df = pd.DataFrame(infa)\n",
    "    return df"
   ]
  },
  {
   "cell_type": "code",
   "execution_count": null,
   "metadata": {},
   "outputs": [],
   "source": [
    "parser_year()"
   ]
  },
  {
   "cell_type": "markdown",
   "metadata": {},
   "source": [
    "### Языки"
   ]
  },
  {
   "cell_type": "code",
   "execution_count": 1,
   "metadata": {},
   "outputs": [],
   "source": [
    "def parser_lang():\n",
    "    url = 'https://www.the-numbers.com/movies/languages#tab=language'\n",
    "    res = requests.get(url)\n",
    "    html = res.content\n",
    "    tree = BeautifulSoup(html, 'html.parser')\n",
    "    total = tree.find_all('td')\n",
    "\n",
    "    lang = total[::3][:179]\n",
    "    films = total[1::3][:179]\n",
    "    box = total[2::3][:179]\n",
    "    infa = []\n",
    "    for i in range(len(box)):\n",
    "        a = lang[i].text.strip()\n",
    "        b = films[i].text.strip()\n",
    "        c = box[i].text.strip()\n",
    "\n",
    "        infa.append({'Страна': a,\n",
    "                     'Кол-во выпущенных фильмов':b,\n",
    "                     'Box office': c})\n",
    "    \n",
    "    df = pd.DataFrame(infa)\n",
    "    return df"
   ]
  },
  {
   "cell_type": "code",
   "execution_count": null,
   "metadata": {},
   "outputs": [],
   "source": [
    "parser_lang()"
   ]
  }
 ],
 "metadata": {
  "kernelspec": {
   "display_name": "Python 3",
   "language": "python",
   "name": "python3"
  },
  "language_info": {
   "codemirror_mode": {
    "name": "ipython",
    "version": 3
   },
   "file_extension": ".py",
   "mimetype": "text/x-python",
   "name": "python",
   "nbconvert_exporter": "python",
   "pygments_lexer": "ipython3",
   "version": "3.7.4"
  }
 },
 "nbformat": 4,
 "nbformat_minor": 2
}
